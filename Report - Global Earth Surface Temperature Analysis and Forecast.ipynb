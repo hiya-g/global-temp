{
 "cells": [
  {
   "cell_type": "markdown",
   "metadata": {},
   "source": [
    "# Global Earth Surface Temperature Analysis and Forecast"
   ]
  },
  {
   "cell_type": "markdown",
   "metadata": {},
   "source": [
    "## Overview"
   ]
  },
  {
   "cell_type": "markdown",
   "metadata": {},
   "source": [
    " "
   ]
  },
  {
   "cell_type": "markdown",
   "metadata": {},
   "source": [
    "## Data"
   ]
  },
  {
   "cell_type": "markdown",
   "metadata": {},
   "source": [
    "The data source of the temperature time series used for the modeling is Kaggle <sup>[1](https://www.kaggle.com/berkeleyearth/climate-change-earth-surface-temperature-data)</sup>. The data contains global monthly averages of land and ocean temparatures and temperature uncertainty from 1750 to 2015. There are also country and city wise breakups of the monthly temperature means. <br>\n",
    "The source of the historic CO2 data is Nasa's Global Climate Change website <sup>[2](https://climate.nasa.gov/vital-signs/carbon-dioxide/)</sup>. This data from March 1958 through April 1974 have been originally obtained from the Scripps website <sup>[3](scrippsco2.ucsd.edu)</sup>."
   ]
  },
  {
   "cell_type": "markdown",
   "metadata": {},
   "source": [
    "## Exploration and Analysis"
   ]
  },
  {
   "cell_type": "markdown",
   "metadata": {},
   "source": [
    "Looking at the maximum and minimum temperatures over the last few years, we see the same trend. Both the average maximum and minimum land temperatures have been slowly but surely rising and have increased by more than a degree in the last 50 years."
   ]
  },
  {
   "cell_type": "markdown",
   "metadata": {},
   "source": [
    "<img src='./images/max-min-temp.png' >"
   ]
  },
  {
   "cell_type": "markdown",
   "metadata": {},
   "source": [
    "This rise is evident not only in the land temperatures, but also in the ocean temperatures. Also, this rise clearly matches the increasing trend of CO2 in the atmosphere. CO2 is a greenhouse gas that traps heat and directly contributes to global warming. It's increase can be attributed to deforestation and fossil fuel usage."
   ]
  },
  {
   "cell_type": "markdown",
   "metadata": {},
   "source": [
    "<img src='./images/average-temp.png' >"
   ]
  },
  {
   "cell_type": "markdown",
   "metadata": {},
   "source": [
    "Here is a visual of the temperature change every decade by country between 1880 and 2010. The rise in global temperatures seems to have really accelerated after 1970 due to increased industrialization and urbanization."
   ]
  },
  {
   "cell_type": "markdown",
   "metadata": {},
   "source": [
    "<img src='./images/movie.gif' >"
   ]
  },
  {
   "cell_type": "markdown",
   "metadata": {},
   "source": [
    "## Forecast"
   ]
  },
  {
   "cell_type": "markdown",
   "metadata": {},
   "source": [
    "In most cases, a time series has 3 components embedded in the data - trend, seasonality and noise. <br>\n",
    "<p><b>Trend</b> reflects the long-term progression of the series (secular variation). A trend exists when there is a persistent increasing or decreasing direction in the data. The trend component can be linear or non-linear.\n",
    "<p><b>Seasonality</b> or a seasonal pattern exists when a time series is influenced by seasonal factors. Seasonality occurs over a fixed and known period (e.g., the quarter of the year, the month, or day of the week).\n",
    "<p><b>Noise</b> or irregular component describes random, irregular influences. It represents the residuals or remainder of the time series after the other components have been removed.   \n",
    "\n",
    "Considering an additive decomposition, our time series can be broken down as: y<sub>t</sub> = S<sub>t</sub> + T<sub>t</sub> + R<sub>t</sub>, where y<sub>t</sub> is the data,  S<sub>t</sub> is the seasonal component, T<sub>t</sub> is the trend-cycle component, and R<sub>t</sub> is the remainder component, all at period *t*\n",
    "    \n",
    "When we decompose our data, we can see a general upward trend with some minor dips. There is very clear seasonality in the data, with 12 data points per seasonal cycle, since the data set has monthly data points."
   ]
  },
  {
   "cell_type": "markdown",
   "metadata": {},
   "source": [
    "<img src='./images/decomposition.png' height=\"50%\">"
   ]
  },
  {
   "cell_type": "markdown",
   "metadata": {},
   "source": [
    "Next, we will check the stationarity of our time series. A time series is \"stationary\" if all of its statistical properties—mean, variance, autocorrelations, etc. are constant in time and do not depend on the time at which the series is observed <sup>[5](http://people.duke.edu/~rnau/411home.htm)</sup>. So, any series with trend and seasonality components is not stationary. Since, we just saw that our data has both these components, it is unlikely that our time series is stationary. \n",
    "Let's verify this by running the augmented Dicky-Fueller test."
   ]
  },
  {
   "cell_type": "raw",
   "metadata": {},
   "source": [
    "ADF Test Statistic        -1.455300\n",
    "p-value                    0.555500\n",
    "# Lags Used               26.000000\n",
    "# Observations Used     1965.000000\n",
    "Critical Value (1%)       -3.433682\n",
    "Critical Value (5%)       -2.863012\n",
    "Critical Value (10%)      -2.567554"
   ]
  },
  {
   "cell_type": "markdown",
   "metadata": {},
   "source": [
    "One way to make a non-stationary time series stationary is to compute the differences between consecutive observations. This is known as <b>differencing</b>. Here is the result of first order differencing on our data."
   ]
  },
  {
   "cell_type": "raw",
   "metadata": {},
   "source": [
    "            Actual\t    Differenced\n",
    "\t\t\n",
    "1850-02-01\t3.071\t    2.322\n",
    "1850-03-01\t4.954\t    1.883\n",
    "1850-04-01\t7.217\t    2.263\n",
    "1850-05-01\t10.004\t    2.787\n",
    "1850-06-01\t13.150\t    3.146"
   ]
  },
  {
   "cell_type": "markdown",
   "metadata": {},
   "source": [
    "Let's run the test again on the differenced data. We see that the p-value is insignificant and we can reject the null hypothesis that a unit root (a characteristic that makes the time series non-stationary) is present in this time series sample. This means the differenced time series is stationary."
   ]
  },
  {
   "cell_type": "raw",
   "metadata": {},
   "source": [
    "ADF Test Statistic       -12.581600\n",
    "p-value                    0.000000\n",
    "# Lags Used               26.000000\n",
    "# Observations Used     1964.000000\n",
    "Critical Value (1%)       -3.433684\n",
    "Critical Value (5%)       -2.863013\n",
    "Critical Value (10%)      -2.567554\n",
    "dtype: float64"
   ]
  },
  {
   "cell_type": "markdown",
   "metadata": {},
   "source": [
    "Lag plot is a type of scatter plot where observations are plotted with a lagged version of themselves. A lag plot can give us clues about model suitability based on the underlying data. Our data shows a positive linear trend in the lag plot, which is an \n",
    "indication of autocorrelation. However, the points are not concentrated only on the diagonal line, so the autocorrelation is not very strong."
   ]
  },
  {
   "cell_type": "markdown",
   "metadata": {},
   "source": [
    "<img src='./images/lag-plot.png' >"
   ]
  },
  {
   "cell_type": "markdown",
   "metadata": {},
   "source": [
    "In the next few steps, we will train and fit a model, then do an in-sample prediction to test how the model performs. If the model performance is satisfoctary, we will do an out of sample forecast.\n",
    "\n",
    "We will use a seasonal ARIMA (SARIMA) model for our time series forecasting.\n",
    "\n",
    "A non-seasonal ARIMA model can be summarized by three numbers. This is called an ARIMA(p,d,q) model, where\n",
    "- p = the number of autoregressive terms\n",
    "- d = the number of nonseasonal differences\n",
    "- q = the number of moving-average terms\n",
    "\n",
    "A seasonal ARIMA model is formed by including additional seasonal terms in the above ARIMA model.\n",
    "- P = the number of seasonal autoregressive terms\n",
    "- D = the number of seasonal differences\n",
    "- Q = the number of seasonal moving-average terms\n",
    "- m = number of observations per year.\n"
   ]
  },
  {
   "cell_type": "markdown",
   "metadata": {},
   "source": [
    "To fit the SARIMA model, the AR and MA terms need to be determined to correct any autocorrelation that remains in the differenced series. One way to tentatively identify them, is to use autocorrelation function (ACF) and partial autocorrelation function (PACF) plots of the differenced series.\n",
    "Autocorrelation measures the linear relationship between lagged values of a time series. An ACF plot is a bar chart of the coefficients of correlation between a time series and lags of itself.\n",
    "A partial autocorrelation is the amount of correlation between a variable and a lag of itself that is not explained by correlations at all lower-order-lags."
   ]
  },
  {
   "cell_type": "markdown",
   "metadata": {},
   "source": [
    "Here are the ACF and PACF plots of the original and differenced series:\n",
    "<img src='./images/correlogram.png' >\n",
    "As a rule of thumb, the lag at which the PACF crosses the upper confidence interval is the indicated number of AR terms and the lag at which the ACF crosses the upper confidence interval is the indicated number of MA terms.\n",
    "From the figure, it seems like, p=1, d=0 and q=3.\n",
    "\n",
    "To verify this finding, we will use the auto_arima function from the pmdarima library <sup>[6](http://alkaline-ml.com/pmdarima/index.html)</sup> to find the orders. This function tests models crested using several combinations of p,d and q values till it finds the model with the lowest AIC. The Akaike Information Critera or AIC is a widely used estimator to measure the ampount of error in a statistical model."
   ]
  },
  {
   "cell_type": "raw",
   "metadata": {},
   "source": [
    "ARIMA(maxiter=50, method='lbfgs', order=(0, 0, 3), out_of_sample_size=0,\n",
    "      scoring='mse', scoring_args=None, seasonal_order=(2, 0, 2, 12),\n",
    "      start_params=None, suppress_warnings=False, trend=None,\n",
    "      with_intercept=True)"
   ]
  },
  {
   "cell_type": "markdown",
   "metadata": {},
   "source": [
    "The auto_arima function recommends the terms p=0, d=0, q=3, P=2, D=0, Q=2 and m=12. So, we will use these terms to build our model."
   ]
  },
  {
   "cell_type": "markdown",
   "metadata": {},
   "source": [
    "Let's do a 90/10 split of our data into training and testing sets. The training set will be used to build the model and the testing set will be used to test the model. \n",
    "After the split, the training set contains 1792 samples and the testing set has 199 samples. We then use the training set to build a SARIMA(0, 0, 3)x(2, 0, 2, 12). More detailed results below:"
   ]
  },
  {
   "cell_type": "markdown",
   "metadata": {},
   "source": [
    "<img src='./images/pred_results.PNG' >"
   ]
  },
  {
   "cell_type": "markdown",
   "metadata": {},
   "source": [
    "After we fit the model, we make an in-sample prediction of monthly temperatures from 1999-06-01 to 2015-12-01. After the prediction, the predicted values are scaled back to the original level. Then the actual and predicted values are compared by superimposing the predicted temperatures on top of the actual temperatures for this time period. In the plot, the predictions seem to be tracking the actuals quite closely.\n",
    "The root mean square, which is the root of the difference between the actual and predicted values, is 0.3551. This is also in the acceptable range."
   ]
  },
  {
   "cell_type": "markdown",
   "metadata": {},
   "source": [
    "<img src='./images/prediction.png' >"
   ]
  },
  {
   "cell_type": "markdown",
   "metadata": {},
   "source": [
    "### Out of sample forecasting"
   ]
  },
  {
   "cell_type": "markdown",
   "metadata": {},
   "source": [
    "The next step is to forecast future temperatures. But, before that we need to run the auto_arima function on the entire dataset, to get the orders for the SARIMA model that will be used to build the forecasting model."
   ]
  },
  {
   "cell_type": "raw",
   "metadata": {},
   "source": [
    "ARIMA(maxiter=50, method='lbfgs', order=(0, 1, 1), out_of_sample_size=0,\n",
    "      scoring='mse', scoring_args=None, seasonal_order=(2, 0, 1, 12),\n",
    "      start_params=None, suppress_warnings=False, trend=None,\n",
    "      with_intercept=True)"
   ]
  },
  {
   "cell_type": "markdown",
   "metadata": {},
   "source": [
    "The lowest AIC is observed for SARIMA(0,1,1)x(2, 0, 1, 12). A forecasting model is fit using these orders. Here is the summary of the SARIMA results."
   ]
  },
  {
   "cell_type": "markdown",
   "metadata": {},
   "source": [
    "<img src='./images/forecast_results.PNG' >"
   ]
  },
  {
   "cell_type": "markdown",
   "metadata": {},
   "source": [
    "The model is then used to make a forecast for the next 8 years (96 months). The first 10 forecasted values look like this:"
   ]
  },
  {
   "cell_type": "raw",
   "metadata": {},
   "source": [
    "            Forecast\n",
    "2016-01-01\t4.017124\n",
    "2016-02-01\t4.505930\n",
    "2016-03-01\t6.753045\n",
    "2016-04-01\t9.811917\n",
    "2016-05-01\t12.621558\n",
    "2016-06-01\t14.738618\n",
    "2016-07-01\t15.510246\n",
    "2016-08-01\t15.109532\n",
    "2016-09-01\t13.353235\n",
    "2016-10-01\t10.705194\n",
    "2016-11-01\t7.468167\n",
    "2016-12-01\t5.019378"
   ]
  },
  {
   "cell_type": "markdown",
   "metadata": {},
   "source": [
    "Let's plot the Actual temperatures along with the predicted and forecasted values to see what they it looks like side by side."
   ]
  },
  {
   "cell_type": "markdown",
   "metadata": {},
   "source": [
    "<img src='./images/actual-prediction-forecast.png' >"
   ]
  },
  {
   "cell_type": "markdown",
   "metadata": {},
   "source": [
    "### Results"
   ]
  },
  {
   "cell_type": "markdown",
   "metadata": {},
   "source": [
    "The forecasted values in the plot indicate that the temperatures will not only continue to rise, but the rate of temperature increase will be significantly accelerated. This finding is broadly consistent not only with that of NASA and Climatic Research Unit, but most climate researchers have predicted a faster rate of warming in the coming years."
   ]
  },
  {
   "cell_type": "markdown",
   "metadata": {},
   "source": [
    "## Conclusion"
   ]
  },
  {
   "cell_type": "markdown",
   "metadata": {},
   "source": [
    "As global temperatures continue to rise, we will soon see parts of the world slowly becoming inhabitable. This will also cause ice sheets to melt and sea levels to rise. If this continues, the consequences will be deadly - many animal species will become extinct and massive amounts of habitats will be lost due to natural calamities. \n",
    "Let's hope we rally together to move towards a more sustainable lifestyle so that this dangerous trend is delayed and then reversed."
   ]
  },
  {
   "cell_type": "markdown",
   "metadata": {},
   "source": [
    "## References"
   ]
  },
  {
   "cell_type": "markdown",
   "metadata": {},
   "source": [
    "- https://www.kaggle.com/berkeleyearth/climate-change-earth-surface-temperature-data\n",
    "- https://climate.nasa.gov/vital-signs/carbon-dioxide/\n",
    "- https://scrippsco2.ucsd.edu\n",
    "- https://otexts.com/fpp2/\n",
    "- http://people.duke.edu/~rnau/411home.htm\n",
    "- http://alkaline-ml.com/pmdarima/index.html\n",
    "- https://en.wikipedia.org/wiki/ISO_3166-1_alpha-3\n",
    "- https://plotly.com/python/reference/\n",
    "- https://pypi.org/project/pmdarima/\n",
    "- https://pandas.pydata.org/pandas-docs/stable/reference/index.html\n",
    "- https://www.statsmodels.org/stable/index.html\n"
   ]
  }
 ],
 "metadata": {
  "kernelspec": {
   "display_name": "Python 3",
   "language": "python",
   "name": "python3"
  },
  "language_info": {
   "codemirror_mode": {
    "name": "ipython",
    "version": 3
   },
   "file_extension": ".py",
   "mimetype": "text/x-python",
   "name": "python",
   "nbconvert_exporter": "python",
   "pygments_lexer": "ipython3",
   "version": "3.7.4"
  }
 },
 "nbformat": 4,
 "nbformat_minor": 2
}
